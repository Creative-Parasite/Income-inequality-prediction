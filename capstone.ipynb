{
 "cells": [
  {
   "cell_type": "markdown",
   "metadata": {},
   "source": [
    "## __Capstone Project: Income Prediction__ "
   ]
  },
  {
   "cell_type": "markdown",
   "metadata": {},
   "source": [
    "## __Business Understanding__ "
   ]
  },
  {
   "cell_type": "markdown",
   "metadata": {},
   "source": [
    "The project focuses on leveraging machine learning to predict whether individuals in developing nations earn above or below a specific income threshold, aiming to address the pressing issue of income inequality mostly witnessed in developing nations. By creating a cost-effective and accurate tool for monitoring income levels between census years, this initiative not only offers valuable insights for policymakers to manage income disparities effectively but also carries the potential to significantly contribute to global efforts in mitigating income inequality and fostering a more equitable society.\n",
    "\n",
    "**Goal:** The objective of this challenge is to create a machine learning model to predict whether an individual earns above or below a certain amount."
   ]
  },
  {
   "cell_type": "markdown",
   "metadata": {},
   "source": [
    "The dataset has 43 columns and 209499 rows.The features for the training dataset are as follows:\n",
    "- **ID**: Unique identifier for each individual.\n",
    "- **age**: Age of the individual.\n",
    "- **gender**: Gender of the individual.\n",
    "- **education**: Level of education of the individual.\n",
    "- **class**: Social class of the individual.\n",
    "- **education_institute**: Type of educational institution attended.\n",
    "- **marital_status**: Marital status of the individual.\n",
    "- **race**: Race of the individual.\n",
    "- **is_hispanic**: Indicator for Hispanic ethnicity.\n",
    "- **employment_commitment**: Level of commitment to employment.\n",
    "- **unemployment_reason**: Reason for unemployment.\n",
    "- **employment_stat**: Employment status of the individual.\n",
    "- **wage_per_hour**: Hourly wage of the individual.\n",
    "- **is_labor_union**: Membership in a labor union.\n",
    "- **working_week_per_year**: Number of weeks worked per year.\n",
    "- **industry_code**: Code representing the industry of employment.\n",
    "- **industry_code_main**: Main industry code.\n",
    "- **occupation_code**: Code representing the occupation.\n",
    "- **occupation_code_main**: Main occupation code.\n",
    "- **total_employed**: Total number of individuals employed.\n",
    "- **household_stat**: Household status.\n",
    "- **household_summary**: Summary of household information.\n",
    "- **under_18_family**: Presence of individuals under 18 in the family.\n",
    "- **veterans_admin_questionnaire**: Veteran status questionnaire.\n",
    "- **vet_benefit**: Veteran benefits received.\n",
    "- **tax_status**: Tax status of the individual.\n",
    "- **gains**: Financial gains.\n",
    "- **losses**: Financial losses.\n",
    "- **stocks_status**: Status of stocks owned.\n",
    "- **citizenship**: Citizenship status.\n",
    "- **mig_year**: Year of migration.\n",
    "- **country_of_birth_own**: Country of birth of the individual.\n",
    "- **country_of_birth_father**: Country of birth of the individual's father.\n",
    "- **country_of_birth_mother**: Country of birth of the individual's mother.\n",
    "- **migration_code_change_in_msa**: Code for change in MSA migration.\n",
    "- **migration_prev_sunbelt**: Previous migration status in the Sunbelt.\n",
    "- **migration_code_move_within_reg**: Code for moving within a region.\n",
    "- **migration_code_change_in_reg**: Code for change in region migration.\n",
    "- **residence_1_year_ago**: Previous residence status.\n",
    "- **old_residence_reg**: Previous residence region.\n",
    "- **old_residence_state**: Previous residence state.\n",
    "- **importance_of_record**: Importance of the record.\n",
    "- **income_above_limit**: Indicator for income above a certain limit."
   ]
  },
  {
   "cell_type": "markdown",
   "metadata": {},
   "source": [
    "## __Data Understanding__"
   ]
  },
  {
   "cell_type": "markdown",
   "metadata": {},
   "source": [
    "## __Data Preparation__"
   ]
  },
  {
   "cell_type": "markdown",
   "metadata": {},
   "source": [
    "## __Modeling__"
   ]
  },
  {
   "cell_type": "markdown",
   "metadata": {},
   "source": [
    "## __Hypeparameter Tuning__"
   ]
  },
  {
   "cell_type": "markdown",
   "metadata": {},
   "source": [
    "## __Save the Models__"
   ]
  },
  {
   "cell_type": "markdown",
   "metadata": {},
   "source": [
    "## __Test Data__"
   ]
  }
 ],
 "metadata": {
  "language_info": {
   "name": "python"
  }
 },
 "nbformat": 4,
 "nbformat_minor": 2
}
