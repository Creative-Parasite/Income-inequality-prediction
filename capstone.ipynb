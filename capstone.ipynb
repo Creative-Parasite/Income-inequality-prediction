{
 "cells": [
  {
   "cell_type": "markdown",
   "metadata": {},
   "source": [
    "## __Capstone Project: Income Prediction__ 💰"
   ]
  },
  {
   "cell_type": "markdown",
   "metadata": {},
   "source": [
    "Income inequality, where income is distributed unevenly among a population, is a growing problem across the world. With the rapid rise of migration, artificial intelligence (AI) and worker automation, this problem could continue to grow if steps are not taken to address the issue.\n",
    "\n",
    "The project follows the CRISP-DM methodology as follows:\n",
    "- Business Understanding \n",
    "- Data Understanding\n",
    "- Data Preparation\n",
    "- Modelling\n",
    "- Evaluation\n",
    "- Deployment"
   ]
  },
  {
   "cell_type": "markdown",
   "metadata": {},
   "source": [
    "## __Business Understanding__ "
   ]
  },
  {
   "cell_type": "markdown",
   "metadata": {},
   "source": [
    "#### **Business Objectives**\n",
    "- The project focuses on leveraging machine learning to predict whether individuals in developing nations earn above or below a specific income threshold, aiming to address the pressing issue of income inequality mostly witnessed in developing nations. \n",
    "- By creating a cost-effective and accurate tool for monitoring income levels between census years, this initiative not only offers valuable insights for policymakers to manage income disparities effectively but also carries the potential to significantly contribute to global efforts in mitigating income inequality and fostering a more equitable society.\n",
    "\n",
    "**Business Needs:** A model to accurately predict if an individual earns above 50,000 USD.\n",
    "\n",
    "#### **Project Goals**\n",
    "- To create a machine learning model to predict if an individual earns above 50,000 USD.\n",
    "- To create a streamlit app for user interaction\n",
    "\n",
    "#### **Hypothesis**\n",
    "Null Hypothesis (H0): There is no significant relationship between industry type and income level above 50,000 USD.\n",
    "\n",
    "Alternative Hypothesis (H1): There is a significant relationship between industry type and income level above 50,000 USD.\n",
    "\n",
    "#### **Analytical Questions**\n",
    "**TO BE FILLED IN BY PERSON TACKLING ANALYTICAL QUESTION**\n",
    "\n",
    "#### **Timeline** \n",
    "**Week One:**\n",
    "- Data Collection & Cleaning\n",
    "- Exploratory Data Analysis\n",
    "- Feature Engineering\n",
    "- Model Building & Evaluation\n",
    "\n",
    "**Week Two:**\n",
    "- Model Tuning & Optimization\n",
    "- Final Model Evaluation\n",
    "- App Deployment\n",
    "- Documentation & Reporting"
   ]
  },
  {
   "cell_type": "markdown",
   "metadata": {},
   "source": [
    "The dataset has 43 columns and 209499 rows.The features for the training dataset are as follows:\n",
    "- **ID**: Unique identifier for each individual.\n",
    "- **age**: Age of the individual.\n",
    "- **gender**: Gender of the individual.\n",
    "- **education**: Level of education of the individual.\n",
    "- **class**: Social class of the individual.\n",
    "- **education_institute**: Type of educational institution attended.\n",
    "- **marital_status**: Marital status of the individual.\n",
    "- **race**: Race of the individual.\n",
    "- **is_hispanic**: Indicator for Hispanic ethnicity.\n",
    "- **employment_commitment**: Level of commitment to employment.\n",
    "- **unemployment_reason**: Reason for unemployment.\n",
    "- **employment_stat**: Employment status of the individual.\n",
    "- **wage_per_hour**: Hourly wage of the individual.\n",
    "- **is_labor_union**: Membership in a labor union.\n",
    "- **working_week_per_year**: Number of weeks worked per year.\n",
    "- **industry_code**: Code representing the industry of employment.\n",
    "- **industry_code_main**: Main industry code.\n",
    "- **occupation_code**: Code representing the occupation.\n",
    "- **occupation_code_main**: Main occupation code.\n",
    "- **total_employed**: Total number of individuals employed.\n",
    "- **household_stat**: Household status.\n",
    "- **household_summary**: Summary of household information.\n",
    "- **under_18_family**: Presence of individuals under 18 in the family.\n",
    "- **veterans_admin_questionnaire**: Veteran status questionnaire.\n",
    "- **vet_benefit**: Veteran benefits received.\n",
    "- **tax_status**: Tax status of the individual.\n",
    "- **gains**: Financial gains.\n",
    "- **losses**: Financial losses.\n",
    "- **stocks_status**: Status of stocks owned.\n",
    "- **citizenship**: Citizenship status.\n",
    "- **mig_year**: Year of migration.\n",
    "- **country_of_birth_own**: Country of birth of the individual.\n",
    "- **country_of_birth_father**: Country of birth of the individual's father.\n",
    "- **country_of_birth_mother**: Country of birth of the individual's mother.\n",
    "- **migration_code_change_in_msa**: Code for change in MSA migration.\n",
    "- **migration_prev_sunbelt**: Previous migration status in the Sunbelt.\n",
    "- **migration_code_move_within_reg**: Code for moving within a region.\n",
    "- **migration_code_change_in_reg**: Code for change in region migration.\n",
    "- **residence_1_year_ago**: Previous residence status.\n",
    "- **old_residence_reg**: Previous residence region.\n",
    "- **old_residence_state**: Previous residence state.\n",
    "- **importance_of_record**: Importance of the record.\n",
    "- **income_above_limit**: Indicator for income above a certain limit."
   ]
  },
  {
   "cell_type": "markdown",
   "metadata": {},
   "source": [
    "## __Data Understanding__"
   ]
  },
  {
   "cell_type": "markdown",
   "metadata": {},
   "source": [
    "Load Necessary Packages"
   ]
  },
  {
   "cell_type": "code",
   "execution_count": null,
   "metadata": {},
   "outputs": [],
   "source": [
    "## IMPORT LIBRARIES\n",
    "\n",
    "import pandas as pd\n",
    "import numpy as np\n",
    "import os\n",
    "import joblib\n",
    "import warnings\n",
    "warnings.filterwarnings(\"ignore\")\n",
    "pd.set_option('display.max_columns', None)\n",
    "\n",
    "## data visualization\n",
    "import seaborn as sns\n",
    "import matplotlib.pyplot as plt\n",
    "\n",
    "## Data modelling\n",
    "from sklearn.model_selection import train_test_split\n",
    "from imblearn.over_sampling import SMOTE\n",
    "from sklearn.pipeline import Pipeline\n",
    "from imblearn.pipeline import Pipeline as imbpipeline\n",
    "from sklearn.preprocessing import OneHotEncoder, RobustScaler,LabelEncoder\n",
    "from sklearn.compose import ColumnTransformer\n",
    "from sklearn.impute import SimpleImputer \n",
    "from sklearn.ensemble import RandomForestClassifier\n",
    "from sklearn.neighbors import KNeighborsClassifier\n",
    "from sklearn.ensemble import GradientBoostingClassifier\n",
    "import xgboost as xgb\n",
    "from xgboost import XGBClassifier\n",
    "from sklearn.metrics import accuracy_score, precision_score, recall_score, f1_score\n",
    "\n",
    "from sklearn import metrics\n",
    "from sklearn.metrics import classification_report,roc_auc_score,roc_curve,auc\n",
    "from sklearn.metrics import *\n",
    "from sklearn.model_selection import RandomizedSearchCV, GridSearchCV\n",
    "from sklearn.model_selection import cross_val_score\n",
    "from sklearn.model_selection import cross_val_predict\n",
    "from sklearn.model_selection import StratifiedKFold,KFold"
   ]
  },
  {
   "cell_type": "markdown",
   "metadata": {},
   "source": [
    "Load Data"
   ]
  },
  {
   "cell_type": "code",
   "execution_count": null,
   "metadata": {},
   "outputs": [],
   "source": [
    "# Load all datasets\n",
    "# Load train data\n",
    "train_data = pd.read_csv('./datafiles/income trainset.csv')\n",
    "\n",
    "train_data.head()"
   ]
  },
  {
   "cell_type": "code",
   "execution_count": null,
   "metadata": {},
   "outputs": [],
   "source": [
    "# Load testing data\n",
    "test_data = pd.read_csv('./datafiles/income testset.csv')\n",
    "test_data.head()"
   ]
  },
  {
   "cell_type": "markdown",
   "metadata": {},
   "source": [
    "### **Exploratory Data Analysis (EDA)**"
   ]
  },
  {
   "cell_type": "markdown",
   "metadata": {},
   "source": [
    "Train Data"
   ]
  },
  {
   "cell_type": "code",
   "execution_count": null,
   "metadata": {},
   "outputs": [],
   "source": [
    "# Check columns\n",
    "train_data.columns"
   ]
  },
  {
   "cell_type": "code",
   "execution_count": null,
   "metadata": {},
   "outputs": [],
   "source": [
    "# Check general information\n",
    "train_data.info()"
   ]
  },
  {
   "cell_type": "code",
   "execution_count": null,
   "metadata": {},
   "outputs": [],
   "source": [
    "# Check statistical description of numerical columns\n",
    "train_data.describe().T"
   ]
  },
  {
   "cell_type": "code",
   "execution_count": null,
   "metadata": {},
   "outputs": [],
   "source": [
    "# Check for Duplicates\n",
    "train_data.duplicated().sum()"
   ]
  },
  {
   "cell_type": "code",
   "execution_count": null,
   "metadata": {},
   "outputs": [],
   "source": [
    "# Check for null values\n",
    "train_data.isna().sum()"
   ]
  },
  {
   "cell_type": "markdown",
   "metadata": {},
   "source": [
    "Test Data"
   ]
  },
  {
   "cell_type": "code",
   "execution_count": null,
   "metadata": {},
   "outputs": [],
   "source": [
    "# Check columns\n",
    "test_data.columns"
   ]
  },
  {
   "cell_type": "code",
   "execution_count": null,
   "metadata": {},
   "outputs": [],
   "source": [
    "# Check general info\n",
    "test_data.info()"
   ]
  },
  {
   "cell_type": "code",
   "execution_count": null,
   "metadata": {},
   "outputs": [],
   "source": [
    "# Check statistical information of numerical columns\n",
    "test_data.describe().T"
   ]
  },
  {
   "cell_type": "code",
   "execution_count": null,
   "metadata": {},
   "outputs": [],
   "source": [
    "# Check for nulls\n",
    "test_data.isna().sum()"
   ]
  },
  {
   "cell_type": "code",
   "execution_count": null,
   "metadata": {},
   "outputs": [],
   "source": [
    "# Check for duplicates\n",
    "test_data.duplicated().sum()"
   ]
  },
  {
   "cell_type": "markdown",
   "metadata": {},
   "source": [
    "#### **Key Insights**\n",
    "1. There are many missing values in columns both datasets\n",
    "2. There are no duplicates\n",
    "3. Data has different scales\n",
    "4. Irrelevant columns should be dropped in both datasets\n",
    "5. Other columns should be filled\n"
   ]
  },
  {
   "cell_type": "markdown",
   "metadata": {},
   "source": [
    "### **Univariate Analysis**"
   ]
  },
  {
   "cell_type": "code",
   "execution_count": null,
   "metadata": {},
   "outputs": [],
   "source": [
    "# Visualize distribution of target column 'income_above_limit'\n",
    "\n",
    "plt.figure(figsize=(10, 6))\n",
    "sns.countplot(data=train_data, x='income_above_limit', color='purple')\n",
    "plt.title('Distribution of Incomes Above Limit in Training Data')\n",
    "plt.xlabel('Income Above Limit')\n",
    "plt.ylabel('Count')\n",
    "plt.show()\n"
   ]
  },
  {
   "cell_type": "code",
   "execution_count": null,
   "metadata": {},
   "outputs": [],
   "source": [
    "# Select numerical columns\n",
    "numerical_cols = train_data.select_dtypes(include='number').columns\n",
    "\n",
    "# Select categorical columns\n",
    "categorical_cols = train_data.select_dtypes(include='object').columns"
   ]
  },
  {
   "cell_type": "markdown",
   "metadata": {},
   "source": [
    "Visualizing Numerical Columns"
   ]
  },
  {
   "cell_type": "code",
   "execution_count": null,
   "metadata": {},
   "outputs": [],
   "source": [
    "# Visualize the distribution of each numerica; column using a histogram\n",
    "# Create a figure with subplots\n",
    "plt.figure(figsize=(20, 20))\n",
    "\n",
    "# Loop through each column and create a histogram\n",
    "for i, column in enumerate(numerical_cols, start=1):\n",
    "    plt.subplot(4, 3, i)  # 4 rows, 3 columns, ith subplot\n",
    "    sns.histplot(data=train_data, x=column, color='purple')\n",
    "    plt.title(f'Distribution of {column}')\n",
    "    plt.xlabel(column)\n",
    "    plt.ylabel('Frequency')\n",
    "\n",
    "plt.tight_layout()\n",
    "plt.show()\n"
   ]
  },
  {
   "cell_type": "markdown",
   "metadata": {},
   "source": [
    "Check for Outliers in Numerical Columns"
   ]
  },
  {
   "cell_type": "code",
   "execution_count": null,
   "metadata": {},
   "outputs": [],
   "source": [
    "# Visualize the distribution of each categorical column using a histogram\n",
    "# Create a figure with subplots\n",
    "# Use boxplot to see outliers\n",
    "plt.figure(figsize=(20, 20))\n",
    "\n",
    "# Loop through each column and create a histogram\n",
    "for i, column in enumerate(numerical_cols, start=1):\n",
    "    plt.subplot(4, 3, i)  # 4 rows, 3 columns, ith subplot\n",
    "    sns.boxplot(data=train_data, x=column, color='purple')\n",
    "    plt.title(f'Distribution of {column}')\n",
    "    plt.xlabel(column)\n",
    "    plt.ylabel('Frequency')\n",
    "\n",
    "plt.tight_layout()\n",
    "plt.show()\n"
   ]
  },
  {
   "cell_type": "markdown",
   "metadata": {},
   "source": [
    "Visualizing Categorical Colummns"
   ]
  },
  {
   "cell_type": "code",
   "execution_count": null,
   "metadata": {},
   "outputs": [],
   "source": [
    "# Visualize the distribution of each categorical column\n",
    "# Create a figure with subplots\n",
    "plt.figure(figsize=(35, 35))\n",
    "\n",
    "# Loop through each column and create a violin plot\n",
    "for i, column in enumerate(categorical_cols, start=1):\n",
    "    plt.subplot(5, 4, i)  # 5 rows, 4 columns, ith subplot\n",
    "    sns.histplot(data=train_data, x=column, color='purple')\n",
    "    plt.title(f'Distribution of {column}')\n",
    "    plt.xlabel(column)\n",
    "    plt.ylabel('Frequency')\n",
    "\n",
    "plt.tight_layout(pad=3.0)\n",
    "plt.show()\n"
   ]
  },
  {
   "cell_type": "markdown",
   "metadata": {},
   "source": [
    "Check for outliers in Categorical Columns"
   ]
  },
  {
   "cell_type": "code",
   "execution_count": null,
   "metadata": {},
   "outputs": [],
   "source": [
    "# Visualize the distribution of each categorical column\n",
    "# Create a figure with subplots\n",
    "plt.figure(figsize=(35, 35))\n",
    "\n",
    "# Loop through each column and create a violin plot\n",
    "for i, column in enumerate(categorical_cols, start=1):\n",
    "    plt.subplot(5, 4, i)  # 5 rows, 4 columns, ith subplot\n",
    "    sns.boxplot(data=train_data, x=column, color='purple')\n",
    "    plt.title(f'Distribution of {column}')\n",
    "    plt.xlabel(column)\n",
    "    plt.ylabel('Frequency')\n",
    "\n",
    "plt.tight_layout(pad=3.0)\n",
    "plt.show()\n"
   ]
  },
  {
   "cell_type": "markdown",
   "metadata": {},
   "source": [
    "### **Bivariate Analysis**"
   ]
  },
  {
   "cell_type": "code",
   "execution_count": null,
   "metadata": {},
   "outputs": [],
   "source": [
    "# Compare income_above_limit distribution with each of the numerical columns\n",
    "# use violinplot\n",
    "\n",
    "# Create subplots for each numeric column\n",
    "plt.figure(figsize=(18, 12))\n",
    "\n",
    "for i, column in enumerate(numerical_cols, 1):\n",
    "    plt.subplot(4, 3, i)\n",
    "    sns.violinplot(x='income_above_limit', y=column, data=train_data, palette='rocket')\n",
    "    plt.title(f'Comparison of {column} by Income Level Limit')\n",
    "    plt.xlabel('Income Level')\n",
    "    plt.ylabel(column)\n",
    "\n",
    "plt.tight_layout()\n",
    "plt.show()\n"
   ]
  },
  {
   "cell_type": "code",
   "execution_count": null,
   "metadata": {},
   "outputs": [],
   "source": [
    "# Compare income_above_limit distribution with each of the numerical columns\n",
    "# use boxplot to see outliers\n",
    "\n",
    "# Create subplots for each numeric column\n",
    "plt.figure(figsize=(18, 12))\n",
    "\n",
    "for i, column in enumerate(numerical_cols, 1):\n",
    "    plt.subplot(4, 3, i)\n",
    "    sns.boxplot(x='income_above_limit', y=column, data=train_data, palette='rocket')\n",
    "    plt.title(f'Comparison of {column} by Income Level Limit')\n",
    "    plt.xlabel('Income Level')\n",
    "    plt.ylabel(column)\n",
    "\n",
    "plt.tight_layout()\n",
    "plt.show()\n"
   ]
  },
  {
   "cell_type": "code",
   "execution_count": null,
   "metadata": {},
   "outputs": [],
   "source": [
    "# Compare sepsis distribution with each of the categorical columns\n",
    "# Use violinplot\n",
    "\n",
    "# Create subplots for each numeric column\n",
    "plt.figure(figsize=(35, 35))\n",
    "\n",
    "for i, column in enumerate(categorical_cols, 1):\n",
    "    plt.subplot(6, 3, i)\n",
    "    sns.violinplot(x='income_above_limit', y=column, data=train_data, palette='rocket')\n",
    "    plt.title(f'Comparison of {column} by Income Level')\n",
    "    plt.xlabel('Income Level')\n",
    "    plt.ylabel(column)\n",
    "\n",
    "plt.tight_layout()\n",
    "plt.show()\n"
   ]
  },
  {
   "cell_type": "markdown",
   "metadata": {},
   "source": [
    "### **Multivariate Analysis**"
   ]
  },
  {
   "cell_type": "code",
   "execution_count": null,
   "metadata": {},
   "outputs": [],
   "source": [
    "# Pairplot for multivariate relationships between selected numeric columns\n",
    "sns.pairplot(train_data, hue='income_above_limit', palette='rocket', diag_kind='kde')\n",
    "\n",
    "plt.suptitle('Pairplot of Numerical Features Colored by Income Level', y=1.02)\n",
    "plt.show()\n"
   ]
  },
  {
   "cell_type": "code",
   "execution_count": null,
   "metadata": {},
   "outputs": [],
   "source": [
    "# Calculate the correlation matrix for numeric columns\n",
    "corr_matrix = train_data[numerical_cols].corr()\n",
    "\n",
    "# Create a heatmap\n",
    "plt.figure(figsize=(12, 10))\n",
    "sns.heatmap(corr_matrix, annot=True, cmap='coolwarm', vmin=-1, vmax=1)\n",
    "\n",
    "plt.title('Heatmap of Correlations Among Numerical Features')\n",
    "plt.show()"
   ]
  },
  {
   "cell_type": "markdown",
   "metadata": {},
   "source": [
    "### **Analytical Questions**"
   ]
  },
  {
   "cell_type": "markdown",
   "metadata": {},
   "source": [
    "### **Hypothesis Testing**"
   ]
  },
  {
   "cell_type": "markdown",
   "metadata": {},
   "source": [
    "## __Data Preparation__"
   ]
  },
  {
   "cell_type": "markdown",
   "metadata": {},
   "source": [
    "## __Modeling__"
   ]
  },
  {
   "cell_type": "markdown",
   "metadata": {},
   "source": [
    "## __Hypeparameter Tuning__"
   ]
  },
  {
   "cell_type": "markdown",
   "metadata": {},
   "source": [
    "## __Save the Models__"
   ]
  },
  {
   "cell_type": "markdown",
   "metadata": {},
   "source": [
    "## __Test Data__"
   ]
  }
 ],
 "metadata": {
  "language_info": {
   "name": "python"
  }
 },
 "nbformat": 4,
 "nbformat_minor": 2
}
